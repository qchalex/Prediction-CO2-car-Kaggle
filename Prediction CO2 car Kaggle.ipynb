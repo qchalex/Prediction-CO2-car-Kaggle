{
 "cells": [
  {
   "cell_type": "code",
   "execution_count": 2,
   "metadata": {
    "executionInfo": {
     "elapsed": 839,
     "status": "ok",
     "timestamp": 1700522944202,
     "user": {
      "displayName": "Alex Qch",
      "userId": "01300895746780407102"
     },
     "user_tz": -60
    },
    "id": "lI6kdT3eCuGK"
   },
   "outputs": [],
   "source": [
    "import pandas as pd"
   ]
  },
  {
   "cell_type": "code",
   "execution_count": 3,
   "metadata": {
    "colab": {
     "base_uri": "https://localhost:8080/"
    },
    "executionInfo": {
     "elapsed": 55726,
     "status": "ok",
     "timestamp": 1700523000277,
     "user": {
      "displayName": "Alex Qch",
      "userId": "01300895746780407102"
     },
     "user_tz": -60
    },
    "id": "JY-IzNjqC2Ft",
    "outputId": "b721f173-b0d4-46a7-9076-699843070394"
   },
   "outputs": [
    {
     "name": "stderr",
     "output_type": "stream",
     "text": [
      "/var/folders/j3/n42l5tvd41v6tn5x11gsbmbw0000gn/T/ipykernel_78552/2563883028.py:1: DtypeWarning: Columns (28) have mixed types. Specify dtype option on import or set low_memory=False.\n",
      "  df_train = pd.read_csv(r\"train.csv\")\n"
     ]
    }
   ],
   "source": [
    "df_train = pd.read_csv(r\"train.csv\")"
   ]
  },
  {
   "cell_type": "code",
   "execution_count": 4,
   "metadata": {
    "colab": {
     "base_uri": "https://localhost:8080/"
    },
    "executionInfo": {
     "elapsed": 11387,
     "status": "ok",
     "timestamp": 1700523011658,
     "user": {
      "displayName": "Alex Qch",
      "userId": "01300895746780407102"
     },
     "user_tz": -60
    },
    "id": "JL-kx4Df2aEx",
    "outputId": "356ab67d-c870-4df4-d824-ffa0f8854942"
   },
   "outputs": [
    {
     "name": "stderr",
     "output_type": "stream",
     "text": [
      "/var/folders/j3/n42l5tvd41v6tn5x11gsbmbw0000gn/T/ipykernel_78552/3082698597.py:1: DtypeWarning: Columns (27) have mixed types. Specify dtype option on import or set low_memory=False.\n",
      "  df_test = pd.read_csv(r\"test.csv\")\n"
     ]
    }
   ],
   "source": [
    "df_test = pd.read_csv(r\"test.csv\")"
   ]
  },
  {
   "cell_type": "code",
   "execution_count": 5,
   "metadata": {
    "executionInfo": {
     "elapsed": 353,
     "status": "ok",
     "timestamp": 1700523070609,
     "user": {
      "displayName": "Alex Qch",
      "userId": "01300895746780407102"
     },
     "user_tz": -60
    },
    "id": "piyY7YuBC2Ol"
   },
   "outputs": [],
   "source": [
    "ID = df_test['ID']"
   ]
  },
  {
   "cell_type": "code",
   "execution_count": 6,
   "metadata": {},
   "outputs": [],
   "source": [
    "# df_train.info()"
   ]
  },
  {
   "cell_type": "code",
   "execution_count": 7,
   "metadata": {},
   "outputs": [],
   "source": [
    "# valeurs_manquantes = df_train[['Fuel consumption ', 'Ft']].isnull().sum()\n",
    "# print(\"Valeurs manquantes :\\n\", valeurs_manquantes)\n",
    "\n",
    "# valeurs_negatives = df_train[df_train['Fuel consumption '] < 0]\n",
    "# print(\"\\nLignes où 'Fuel consumption' est négatif :\\n\", valeurs_negatives)\n",
    "\n",
    "# valeurs_uniques_ft = df_train['Ft'].nunique()\n",
    "# print(\"Nombre de valeurs uniques dans la colonne 'Ft' :\", valeurs_uniques_ft)\n",
    "\n",
    "# modalites_ft = df_train['Ft'].unique()\n",
    "# print(\"Différentes modalités de la colonne 'Ft' :\", modalites_ft)"
   ]
  },
  {
   "cell_type": "code",
   "execution_count": 8,
   "metadata": {},
   "outputs": [],
   "source": [
    "df_train.loc[(df_train['Ft'] == 'ELECTRIC') & df_train['Fuel consumption '].isnull(), 'Fuel consumption '] = 0\n",
    "df_test.loc[(df_test['Ft'] == 'ELECTRIC') & df_test['Fuel consumption '].isnull(), 'Fuel consumption '] = 0\n",
    "\n",
    "# print(df_train[['Ft', 'Fuel consumption ']])"
   ]
  },
  {
   "cell_type": "code",
   "execution_count": 9,
   "metadata": {},
   "outputs": [],
   "source": [
    "# valeurs_manquantes = df_train['Fuel consumption '].isnull().sum()\n",
    "# print(\"Valeurs manquantes :\\n\", valeurs_manquantes)"
   ]
  },
  {
   "cell_type": "code",
   "execution_count": 10,
   "metadata": {},
   "outputs": [],
   "source": [
    "# modalites_ft = ['PETROL', 'PETROL/ELECTRIC', 'DIESEL', 'LPG', 'ELECTRIC', 'NG', 'E85',\n",
    "#                 'DIESEL/ELECTRIC', 'NG-BIOMETHANE', 'HYDROGEN', 'UNKNOWN']\n",
    "\n",
    "# for modalite in modalites_ft:\n",
    "#     subset_df = df_train[df_train['Ft'] == modalite]\n",
    "#     description = subset_df['Electric range (km)'].describe()\n",
    "#     print(f\"\\nDistribution pour 'Ft' = {modalite} :\\n{description}\")"
   ]
  },
  {
   "cell_type": "code",
   "execution_count": null,
   "metadata": {},
   "outputs": [],
   "source": []
  },
  {
   "cell_type": "code",
   "execution_count": 11,
   "metadata": {},
   "outputs": [],
   "source": [
    "df_train.loc[df_train['Ft'].isin(['PETROL', 'DIESEL','E85', 'HYDROGEN', 'LPG', 'NG', 'NG-BIOMETHANE']), 'Electric range (km)'] = 0\n",
    "\n",
    "types_carburant = df_train['Ft'].unique()\n",
    "\n",
    "for carburant in types_carburant:\n",
    "    median_value = df_train[df_train['Ft'] == carburant]['Electric range (km)'].median()\n",
    "    df_train.loc[(df_train['Ft'] == carburant) & df_train['Electric range (km)'].isnull(), 'Electric range (km)'] = median_value\n",
    "\n",
    "# print(df_train[['Ft', 'Electric range (km)']])"
   ]
  },
  {
   "cell_type": "code",
   "execution_count": 12,
   "metadata": {},
   "outputs": [],
   "source": [
    "df_test.loc[df_test['Ft'].isin(['PETROL', 'DIESEL','E85', 'HYDROGEN', 'LPG', 'NG', 'NG-BIOMETHANE']), 'Electric range (km)'] = 0\n",
    "\n",
    "types_carburant = df_test['Ft'].unique()\n",
    "\n",
    "for carburant in types_carburant:\n",
    "    median_value = df_test[df_test['Ft'] == carburant]['Electric range (km)'].median()\n",
    "    df_test.loc[(df_test['Ft'] == carburant) & df_test['Electric range (km)'].isnull(), 'Electric range (km)'] = median_value\n",
    "\n",
    "# print(df_test[['Ft', 'Electric range (km)']])"
   ]
  },
  {
   "cell_type": "code",
   "execution_count": 13,
   "metadata": {},
   "outputs": [],
   "source": [
    "# types_carburant_a_imputer_0 = ['E85', 'HYDROGEN', 'LPG', 'NG', 'NG-BIOMETHANE']\n",
    "\n",
    "# df_train.loc[df_train['Ft'].isin(types_carburant_a_imputer_0), 'Electric range (km)'] = 0\n",
    "\n",
    "# print(df_train[['Ft', 'Electric range (km)']])"
   ]
  },
  {
   "cell_type": "code",
   "execution_count": 14,
   "metadata": {},
   "outputs": [],
   "source": [
    "# nb_na_electric_range = df_train['Electric range (km)'].isnull().sum()\n",
    "\n",
    "# print(\"Nombre de NA dans 'Electric range (km)' :\", nb_na_electric_range)"
   ]
  },
  {
   "cell_type": "code",
   "execution_count": 15,
   "metadata": {},
   "outputs": [],
   "source": [
    "# pourcentage_zeros = (df_train['Electric range (km)'] == 0).mean() * 100\n",
    "\n",
    "# print(\"Pourcentage de zéros dans 'Electric range (km)' :\", pourcentage_zeros)"
   ]
  },
  {
   "cell_type": "code",
   "execution_count": 16,
   "metadata": {},
   "outputs": [],
   "source": [
    "# correlation = df_train[['Electric range (km)', 'Ewltp (g/km)']].corr().iloc[0, 1]\n",
    "\n",
    "# print(\"Corrélation entre 'Electric range (km)' et 'Ewltp (g/km)' :\", correlation)"
   ]
  },
  {
   "cell_type": "code",
   "execution_count": 17,
   "metadata": {},
   "outputs": [],
   "source": [
    "# df_train['EstElectrique'] = (df_train['Electric range (km)'] > 0).astype(int)\n",
    "# df_test['EstElectrique'] = (df_test['Electric range (km)'] > 0).astype(int)\n",
    "\n",
    "# print(df_train[['Electric range (km)', 'EstElectrique']])"
   ]
  },
  {
   "cell_type": "code",
   "execution_count": 18,
   "metadata": {},
   "outputs": [],
   "source": [
    "condition_est_electrique_hybride_non_electrique = (\n",
    "    (df_train['Electric range (km)'] > 0) | \n",
    "    (df_train['Ft'].str.contains('/ELECTRIC|HYBRID', case=False, na=False)) |\n",
    "    (df_train['Ft'].str.contains('ELECTRIC', case=False, na=False))\n",
    ")\n",
    "\n",
    "condition_hybride = df_train['Ft'].str.contains('DIESEL/ELECTRIC|PETROL/ELECTRIC', case=False, na=False)\n",
    "df_train.loc[condition_hybride, 'EstType'] = 1\n",
    "\n",
    "df_train['EstType'].fillna(0, inplace=True)  # Remplir les NaN avec 0 (Non électrique)\n",
    "\n",
    "# pourcentage_modalites = df_train['EstType'].value_counts(normalize=True) * 100\n",
    "\n",
    "# print(pourcentage_modalites)"
   ]
  },
  {
   "cell_type": "code",
   "execution_count": 19,
   "metadata": {},
   "outputs": [],
   "source": [
    "condition_est_electrique_hybride_non_electrique = (\n",
    "    (df_test['Electric range (km)'] > 0) | \n",
    "    (df_test['Ft'].str.contains('/ELECTRIC|HYBRID', case=False, na=False)) |\n",
    "    (df_test['Ft'].str.contains('ELECTRIC', case=False, na=False))\n",
    ")\n",
    "\n",
    "condition_hybride = df_test['Ft'].str.contains('DIESEL/ELECTRIC|PETROL/ELECTRIC', case=False, na=False)\n",
    "df_test.loc[condition_hybride, 'EstType'] = 1\n",
    "\n",
    "df_test['EstType'].fillna(0, inplace=True)  # Remplir les NaN avec 0 (Non électrique)\n",
    "\n",
    "# pourcentage_modalites = df_test['EstType'].value_counts(normalize=True) * 100\n",
    "\n",
    "# print(pourcentage_modalites)"
   ]
  },
  {
   "cell_type": "code",
   "execution_count": 19,
   "metadata": {},
   "outputs": [],
   "source": [
    "# correlation = df_train[['EstType', 'Ewltp (g/km)']].corr().iloc[0, 1]\n",
    "\n",
    "# print(\"Corrélation entre 'EstType' et 'Ewltp (g/km)' :\", correlation)"
   ]
  },
  {
   "cell_type": "code",
   "execution_count": 20,
   "metadata": {},
   "outputs": [],
   "source": [
    "# df_train.info()"
   ]
  },
  {
   "cell_type": "code",
   "execution_count": 21,
   "metadata": {},
   "outputs": [],
   "source": [
    "# correlation = df_train[['z (Wh/km)', 'Ewltp (g/km)']].corr().iloc[0, 1]\n",
    "\n",
    "# print(\"Corrélation entre 'z (Wh/km)' et 'Ewltp (g/km)' :\", correlation)"
   ]
  },
  {
   "cell_type": "code",
   "execution_count": 22,
   "metadata": {},
   "outputs": [],
   "source": [
    "# valeurs_nulles_electric_range = df_train[df_train['z (Wh/km)'].isnull()]\n",
    "\n",
    "# modalites_ft_electric_range_nulles = valeurs_nulles_electric_range['Ft'].unique()\n",
    "# print(\"Modalités de 'Ft' lorsque 'z (Wh/km)' est manquante :\", modalites_ft_electric_range_nulles)"
   ]
  },
  {
   "cell_type": "code",
   "execution_count": 20,
   "metadata": {},
   "outputs": [],
   "source": [
    "df_train.loc[df_train['Ft'].isin(['PETROL', 'DIESEL','E85', 'HYDROGEN', 'LPG', 'NG', 'NG-BIOMETHANE']), 'z (Wh/km)'] = 0\n",
    "\n",
    "types_carburant = df_train['Ft'].unique()\n",
    "\n",
    "for carburant in types_carburant:\n",
    "    median_value = df_train[df_train['Ft'] == carburant]['z (Wh/km)'].median()\n",
    "    df_train.loc[(df_train['Ft'] == carburant) & df_train['z (Wh/km)'].isnull(), 'z (Wh/km)'] = median_value\n",
    "\n",
    "# print(df_train[['Ft', 'z (Wh/km)']])"
   ]
  },
  {
   "cell_type": "code",
   "execution_count": 21,
   "metadata": {},
   "outputs": [
    {
     "name": "stderr",
     "output_type": "stream",
     "text": [
      "/var/folders/j3/n42l5tvd41v6tn5x11gsbmbw0000gn/T/ipykernel_78552/441265878.py:7: UserWarning: Boolean Series key will be reindexed to match DataFrame index.\n",
      "  median_value = df_test[df_train['Ft'] == carburant]['z (Wh/km)'].median()\n"
     ]
    }
   ],
   "source": [
    "df_test.loc[df_train['Ft'].isin(['PETROL', 'DIESEL','E85', 'HYDROGEN', 'LPG', 'NG', 'NG-BIOMETHANE']), 'z (Wh/km)'] = 0\n",
    "\n",
    "types_carburant = df_test['Ft'].unique()\n",
    "\n",
    "for carburant in types_carburant:\n",
    "    median_value = df_test[df_train['Ft'] == carburant]['z (Wh/km)'].median()\n",
    "    df_test.loc[(df_test['Ft'] == carburant) & df_test['z (Wh/km)'].isnull(), 'z (Wh/km)'] = median_value\n",
    "\n",
    "# print(df_train[['Ft', 'z (Wh/km)']])"
   ]
  },
  {
   "cell_type": "code",
   "execution_count": 25,
   "metadata": {},
   "outputs": [],
   "source": [
    "# valeurs_nulles_electric_range = df_train[df_train['z (Wh/km)'].isnull()]\n",
    "\n",
    "# modalites_ft_electric_range_nulles = valeurs_nulles_electric_range['Ft'].unique()\n",
    "# print(\"Modalités de 'Ft' lorsque 'z (Wh/km)' est manquante :\", modalites_ft_electric_range_nulles)"
   ]
  },
  {
   "cell_type": "code",
   "execution_count": 26,
   "metadata": {},
   "outputs": [],
   "source": [
    "# types_carburant_a_imputer_0 = ['E85', 'HYDROGEN', 'LPG', 'NG', 'NG-BIOMETHANE']\n",
    "\n",
    "# df_train.loc[df_train['Ft'].isin(types_carburant_a_imputer_0), 'z (Wh/km)'] = 0\n",
    "\n",
    "# # Vérifier le résultat\n",
    "# print(df_train[['Ft', 'z (Wh/km)']])"
   ]
  },
  {
   "cell_type": "code",
   "execution_count": 27,
   "metadata": {},
   "outputs": [],
   "source": [
    "# correlation = df_train[['z (Wh/km)', 'Ewltp (g/km)']].corr().iloc[0, 1]\n",
    "\n",
    "# print(\"Corrélation entre 'z (Wh/km)' et 'Ewltp (g/km)' :\", correlation)"
   ]
  },
  {
   "cell_type": "code",
   "execution_count": null,
   "metadata": {},
   "outputs": [],
   "source": []
  },
  {
   "cell_type": "code",
   "execution_count": 28,
   "metadata": {},
   "outputs": [],
   "source": [
    "# nb_modalites_IT = df_train['IT'].nunique()\n",
    "\n",
    "# print(\"Nombre de modalités uniques dans la colonne 'IT' :\", nb_modalites_IT)"
   ]
  },
  {
   "cell_type": "code",
   "execution_count": 29,
   "metadata": {},
   "outputs": [],
   "source": [
    "# na_both_columns = df_train[df_train['IT'].isnull() & df_train['Erwltp (g/km)'].isnull()]\n",
    "\n",
    "# pourcentage_na_both_columns = (len(na_both_columns) / len(df_train)) * 100\n",
    "\n",
    "# print(f\"Pourcentage de lignes où à la fois 'IT' et 'Erwltp (g/km)' sont NaN : {pourcentage_na_both_columns:.2f}%\")"
   ]
  },
  {
   "cell_type": "code",
   "execution_count": 22,
   "metadata": {},
   "outputs": [],
   "source": [
    "median_values = df_train.groupby('IT')['Erwltp (g/km)'].median().to_dict()\n",
    "df_train['Erwltp (g/km)'] = df_train.apply(lambda row: median_values.get(row['IT']) if pd.isna(row['Erwltp (g/km)']) else row['Erwltp (g/km)'], axis=1)\n",
    "\n",
    "# print(df_train[['IT', 'Erwltp (g/km)']])"
   ]
  },
  {
   "cell_type": "code",
   "execution_count": 23,
   "metadata": {},
   "outputs": [],
   "source": [
    "median_values = df_test.groupby('IT')['Erwltp (g/km)'].median().to_dict()\n",
    "df_test['Erwltp (g/km)'] = df_test.apply(lambda row: median_values.get(row['IT']) if pd.isna(row['Erwltp (g/km)']) else row['Erwltp (g/km)'], axis=1)\n",
    "\n",
    "# print(df_train[['IT', 'Erwltp (g/km)']])"
   ]
  },
  {
   "cell_type": "code",
   "execution_count": 35,
   "metadata": {},
   "outputs": [],
   "source": [
    "# df_train.info()"
   ]
  },
  {
   "cell_type": "code",
   "execution_count": 24,
   "metadata": {},
   "outputs": [],
   "source": [
    "df_train['Erwltp (g/km)'] = df_train['Erwltp (g/km)'].fillna('NA')\n",
    "\n",
    "df_train['Erwltp (g/km)'] = pd.Categorical(df_train['Erwltp (g/km)'])\n",
    "df_train['Erwltp (g/km)'] = df_train['Erwltp (g/km)'].astype('object')\n"
   ]
  },
  {
   "cell_type": "code",
   "execution_count": 25,
   "metadata": {},
   "outputs": [],
   "source": [
    "df_test['Erwltp (g/km)'] = df_test['Erwltp (g/km)'].fillna('NA')\n",
    "\n",
    "df_test['Erwltp (g/km)'] = pd.Categorical(df_test['Erwltp (g/km)'])\n",
    "df_test['Erwltp (g/km)'] = df_test['Erwltp (g/km)'].astype('object')\n"
   ]
  },
  {
   "cell_type": "code",
   "execution_count": 26,
   "metadata": {
    "executionInfo": {
     "elapsed": 21894,
     "status": "ok",
     "timestamp": 1700523093112,
     "user": {
      "displayName": "Alex Qch",
      "userId": "01300895746780407102"
     },
     "user_tz": -60
    },
    "id": "ZaJl2Nj_C2Q1"
   },
   "outputs": [
    {
     "name": "stdout",
     "output_type": "stream",
     "text": [
      "MMS              100.00\n",
      "Enedc (g/km)      83.84\n",
      "IT                37.78\n",
      "Ernedc (g/km)    100.00\n",
      "De               100.00\n",
      "Vf               100.00\n",
      "dtype: float64\n"
     ]
    }
   ],
   "source": [
    "na_percentage = (df_train.isna().mean() * 100).round(2)\n",
    "\n",
    "columns_with_high_na = na_percentage[na_percentage >= 36]\n",
    "print(columns_with_high_na)\n"
   ]
  },
  {
   "cell_type": "code",
   "execution_count": 27,
   "metadata": {},
   "outputs": [
    {
     "name": "stdout",
     "output_type": "stream",
     "text": [
      "MMS              100.00\n",
      "Enedc (g/km)      83.88\n",
      "IT                37.69\n",
      "Ernedc (g/km)    100.00\n",
      "De               100.00\n",
      "Vf               100.00\n",
      "dtype: float64\n"
     ]
    }
   ],
   "source": [
    "na_percentage = (df_test.isna().mean() * 100).round(2)\n",
    "\n",
    "columns_with_high_na = na_percentage[na_percentage >= 33]\n",
    "print(columns_with_high_na)\n",
    "# df_train = df_train.drop(columns=columns_with_high_na.index)"
   ]
  },
  {
   "cell_type": "code",
   "execution_count": 28,
   "metadata": {},
   "outputs": [],
   "source": [
    "na_percentage = (df_train.isna().mean() * 100).round(2)\n",
    "\n",
    "columns_with_high_na = na_percentage[na_percentage >= 36]\n",
    "df_train = df_train.drop(columns=columns_with_high_na.index)"
   ]
  },
  {
   "cell_type": "code",
   "execution_count": 29,
   "metadata": {
    "executionInfo": {
     "elapsed": 7049,
     "status": "ok",
     "timestamp": 1700523100157,
     "user": {
      "displayName": "Alex Qch",
      "userId": "01300895746780407102"
     },
     "user_tz": -60
    },
    "id": "yLmIeVrY26QS"
   },
   "outputs": [],
   "source": [
    "na_percentage = (df_test.isna().mean() * 100).round(2)\n",
    "\n",
    "columns_with_high_na = na_percentage[na_percentage >= 36]\n",
    "\n",
    "df_test = df_test.drop(columns=columns_with_high_na.index)"
   ]
  },
  {
   "cell_type": "code",
   "execution_count": 30,
   "metadata": {
    "executionInfo": {
     "elapsed": 16735,
     "status": "ok",
     "timestamp": 1700523116887,
     "user": {
      "displayName": "Alex Qch",
      "userId": "01300895746780407102"
     },
     "user_tz": -60
    },
    "id": "PoL4qhjCC2VB"
   },
   "outputs": [],
   "source": [
    "fillna_categorical_columns = ['VFN', 'Mp', 'Tan', 'T', 'Va', 'Ve', 'Mk', 'Cn', 'Ct', 'Fm']\n",
    "\n",
    "for column in fillna_categorical_columns:\n",
    "    mode_value = df_train[column].mode()[0]\n",
    "    df_train[column].fillna(mode_value, inplace=True)"
   ]
  },
  {
   "cell_type": "code",
   "execution_count": 31,
   "metadata": {
    "executionInfo": {
     "elapsed": 2140,
     "status": "ok",
     "timestamp": 1700523119024,
     "user": {
      "displayName": "Alex Qch",
      "userId": "01300895746780407102"
     },
     "user_tz": -60
    },
    "id": "1wLeMkAy29_R"
   },
   "outputs": [],
   "source": [
    "fillna_categorical_columns = ['VFN', 'Mp', 'Tan', 'T', 'Va', 'Ve', 'Mk', 'Cn', 'Ct', 'Ft','Fm']\n",
    "for column in fillna_categorical_columns:\n",
    "    mode_value = df_test[column].mode()[0]\n",
    "    df_test[column].fillna(mode_value, inplace=True)"
   ]
  },
  {
   "cell_type": "code",
   "execution_count": 32,
   "metadata": {
    "executionInfo": {
     "elapsed": 870,
     "status": "ok",
     "timestamp": 1700523119893,
     "user": {
      "displayName": "Alex Qch",
      "userId": "01300895746780407102"
     },
     "user_tz": -60
    },
    "id": "9YEpn_3SC2XK"
   },
   "outputs": [],
   "source": [
    "columns_to_drop = ['Date of registration','r','Status','ID']\n",
    "df_train = df_train.drop(columns=columns_to_drop)"
   ]
  },
  {
   "cell_type": "code",
   "execution_count": 33,
   "metadata": {
    "executionInfo": {
     "elapsed": 383,
     "status": "ok",
     "timestamp": 1700523120273,
     "user": {
      "displayName": "Alex Qch",
      "userId": "01300895746780407102"
     },
     "user_tz": -60
    },
    "id": "OBcC_uin3Bqr"
   },
   "outputs": [],
   "source": [
    "columns_to_drop = ['Date of registration','r','Status','ID']\n",
    "df_test = df_test.drop(columns=columns_to_drop)"
   ]
  },
  {
   "cell_type": "code",
   "execution_count": 34,
   "metadata": {},
   "outputs": [],
   "source": [
    "df_merged = pd.concat([df_train, df_test], ignore_index=True)"
   ]
  },
  {
   "cell_type": "code",
   "execution_count": 35,
   "metadata": {
    "executionInfo": {
     "elapsed": 2918,
     "status": "ok",
     "timestamp": 1700523123189,
     "user": {
      "displayName": "Alex Qch",
      "userId": "01300895746780407102"
     },
     "user_tz": -60
    },
    "id": "dcvrtaSlC2ZS"
   },
   "outputs": [],
   "source": [
    "numeric_columns_with_missing_values = df_train.select_dtypes(include=['float64']).columns[df_train.select_dtypes(include=['float64']).isna().any()].tolist()\n",
    "\n",
    "median_values = df_merged[numeric_columns_with_missing_values].median()\n",
    "df_train[numeric_columns_with_missing_values] = df_train[numeric_columns_with_missing_values].fillna(median_values)\n"
   ]
  },
  {
   "cell_type": "code",
   "execution_count": 36,
   "metadata": {},
   "outputs": [],
   "source": [
    "numeric_columns_with_missing_values = df_test.select_dtypes(include=['float64']).columns[df_test.select_dtypes(include=['float64']).isna().any()].tolist()\n",
    "\n",
    "\n",
    "median_values = df_merged[numeric_columns_with_missing_values].median()\n",
    "df_test[numeric_columns_with_missing_values] = df_test[numeric_columns_with_missing_values].fillna(median_values)"
   ]
  },
  {
   "cell_type": "code",
   "execution_count": 37,
   "metadata": {
    "executionInfo": {
     "elapsed": 4,
     "status": "ok",
     "timestamp": 1700523123921,
     "user": {
      "displayName": "Alex Qch",
      "userId": "01300895746780407102"
     },
     "user_tz": -60
    },
    "id": "BH_a-wwqe0Mx"
   },
   "outputs": [],
   "source": [
    "target = df_train['Ewltp (g/km)']"
   ]
  },
  {
   "cell_type": "code",
   "execution_count": 38,
   "metadata": {
    "executionInfo": {
     "elapsed": 14476,
     "status": "ok",
     "timestamp": 1700523138394,
     "user": {
      "displayName": "Alex Qch",
      "userId": "01300895746780407102"
     },
     "user_tz": -60
    },
    "id": "lBJDs5DWYDez"
   },
   "outputs": [],
   "source": [
    "categorical_columns = ['VFN', 'Mp', 'Mh', 'Man', 'Tan', 'T', 'Va', 'Ve', 'Mk', 'Cn', 'Ct', 'Cr', 'Ft', 'Fm']\n",
    "selected_categorical_columns_train = [col for col in categorical_columns if df_train[col].nunique() < 30]\n",
    "\n",
    "df_one_hot_train = pd.get_dummies(df_train[selected_categorical_columns_train], drop_first=True)"
   ]
  },
  {
   "cell_type": "code",
   "execution_count": 39,
   "metadata": {
    "executionInfo": {
     "elapsed": 2524,
     "status": "ok",
     "timestamp": 1700523140903,
     "user": {
      "displayName": "Alex Qch",
      "userId": "01300895746780407102"
     },
     "user_tz": -60
    },
    "id": "NLg_KI0I3KaH"
   },
   "outputs": [],
   "source": [
    "selected_categorical_columns_test = [col for col in categorical_columns if df_test[col].nunique() < 30]\n",
    "\n",
    "df_one_hot_test = pd.get_dummies(df_test[selected_categorical_columns_test], drop_first=True)"
   ]
  },
  {
   "cell_type": "code",
   "execution_count": 40,
   "metadata": {
    "executionInfo": {
     "elapsed": 966,
     "status": "ok",
     "timestamp": 1700523142308,
     "user": {
      "displayName": "Alex Qch",
      "userId": "01300895746780407102"
     },
     "user_tz": -60
    },
    "id": "LM9H8AZp95vu"
   },
   "outputs": [],
   "source": [
    "df_train = pd.concat([df_train, df_one_hot_train], axis=1)\n",
    "df_test = pd.concat([df_test, df_one_hot_test], axis=1)"
   ]
  },
  {
   "cell_type": "code",
   "execution_count": 41,
   "metadata": {
    "executionInfo": {
     "elapsed": 848,
     "status": "ok",
     "timestamp": 1700523143154,
     "user": {
      "displayName": "Alex Qch",
      "userId": "01300895746780407102"
     },
     "user_tz": -60
    },
    "id": "nSrDAFq8-Jrl"
   },
   "outputs": [],
   "source": [
    "missing_columns_test = set(df_one_hot_train.columns) - set(df_one_hot_test.columns)\n",
    "missing_columns_test = [col for col in missing_columns_test if col in df_test.columns]\n",
    "\n",
    "df_test.drop(columns=missing_columns_test, inplace=True)"
   ]
  },
  {
   "cell_type": "code",
   "execution_count": 42,
   "metadata": {
    "executionInfo": {
     "elapsed": 1714,
     "status": "ok",
     "timestamp": 1700523144867,
     "user": {
      "displayName": "Alex Qch",
      "userId": "01300895746780407102"
     },
     "user_tz": -60
    },
    "id": "3tDjkHF2-HK1"
   },
   "outputs": [],
   "source": [
    "columns_to_drop_train = set(df_train.columns) - set(df_test.columns)\n",
    "df_train.drop(columns=columns_to_drop_train, inplace=True)"
   ]
  },
  {
   "cell_type": "code",
   "execution_count": 43,
   "metadata": {
    "executionInfo": {
     "elapsed": 842,
     "status": "ok",
     "timestamp": 1700523146240,
     "user": {
      "displayName": "Alex Qch",
      "userId": "01300895746780407102"
     },
     "user_tz": -60
    },
    "id": "2sLp2zTtHDVP"
   },
   "outputs": [],
   "source": [
    "columns_to_drop_test = set(df_test.columns) - set(df_train.columns)\n",
    "df_test.drop(columns=columns_to_drop_test, inplace=True)"
   ]
  },
  {
   "cell_type": "code",
   "execution_count": 44,
   "metadata": {
    "executionInfo": {
     "elapsed": 10,
     "status": "ok",
     "timestamp": 1700523146241,
     "user": {
      "displayName": "Alex Qch",
      "userId": "01300895746780407102"
     },
     "user_tz": -60
    },
    "id": "fMZ1rf4u_Ti_"
   },
   "outputs": [],
   "source": [
    "df_train['Ewltp (g/km)'] = target"
   ]
  },
  {
   "cell_type": "code",
   "execution_count": 45,
   "metadata": {
    "colab": {
     "base_uri": "https://localhost:8080/"
    },
    "executionInfo": {
     "elapsed": 205422,
     "status": "ok",
     "timestamp": 1700523419639,
     "user": {
      "displayName": "Alex Qch",
      "userId": "01300895746780407102"
     },
     "user_tz": -60
    },
    "id": "x4cxDeCAYJvD",
    "outputId": "3e23f0f9-ead5-43e1-828e-e1d5e88194a2"
   },
   "outputs": [],
   "source": [
    "from category_encoders import CountEncoder\n",
    "\n",
    "categorical_columns_with_values = df_train.select_dtypes(include=['object']).columns[df_train.select_dtypes(include=['object']).nunique() > 1].tolist()\n",
    "\n",
    "count_encoder = CountEncoder(cols=categorical_columns_with_values)\n",
    "\n",
    "df_encoded_train = count_encoder.fit_transform(df_train.drop('Ewltp (g/km)', axis=1))"
   ]
  },
  {
   "cell_type": "code",
   "execution_count": 46,
   "metadata": {
    "executionInfo": {
     "elapsed": 18025,
     "status": "ok",
     "timestamp": 1700523437657,
     "user": {
      "displayName": "Alex Qch",
      "userId": "01300895746780407102"
     },
     "user_tz": -60
    },
    "id": "0UMLMdlV3O3K"
   },
   "outputs": [],
   "source": [
    "df_encoded_test = count_encoder.transform(df_test)"
   ]
  },
  {
   "cell_type": "code",
   "execution_count": 40,
   "metadata": {},
   "outputs": [
    {
     "name": "stdout",
     "output_type": "stream",
     "text": [
      "Mean Absolute Error on validation set: 3.430211630489446\n"
     ]
    }
   ],
   "source": [
    "import xgboost as xgb\n",
    "from sklearn.model_selection import train_test_split\n",
    "from sklearn.metrics import mean_absolute_error\n",
    "\n",
    "X_train, X_val, y_train, y_val = train_test_split(df_encoded_train, target, test_size=0.2, random_state=42)\n",
    "\n",
    "xgb_model = xgb.XGBRegressor(n_estimators=100, max_depth=10, random_state=42, n_jobs=-1)\n",
    "\n",
    "xgb_model.fit(X_train, y_train)\n",
    "\n",
    "y_val_pred = xgb_model.predict(X_val)\n",
    "mae_val = mean_absolute_error(y_val, y_val_pred)\n",
    "print('Mean Absolute Error on validation set:', mae_val)"
   ]
  },
  {
   "cell_type": "code",
   "execution_count": 49,
   "metadata": {},
   "outputs": [
    {
     "name": "stdout",
     "output_type": "stream",
     "text": [
      "Mean Absolute Error on validation set: 3.4261220686296032\n"
     ]
    }
   ],
   "source": [
    "import xgboost as xgb\n",
    "from sklearn.model_selection import train_test_split\n",
    "from sklearn.metrics import mean_absolute_error\n",
    "\n",
    "X_train, X_val, y_train, y_val = train_test_split(df_encoded_train, target, test_size=0.2, random_state=42)\n",
    "\n",
    "columns_to_remove = ['Ft_NG-BIOMETHANE', 'Ct_N1', 'Ft_DIESEL/ELECTRIC', 'Ft_E85', 'Ft_HYDROGEN']\n",
    "\n",
    "X_train_filtered = X_train.drop(columns=columns_to_remove, errors='ignore')\n",
    "X_val_filtered = X_val.drop(columns=columns_to_remove, errors='ignore')\n",
    "\n",
    "xgb_model = xgb.XGBRegressor(n_estimators=100, max_depth=10, random_state=42, n_jobs=-1)\n",
    "\n",
    "xgb_model.fit(X_train_filtered, y_train)\n",
    "\n",
    "y_val_pred = xgb_model.predict(X_val_filtered)\n",
    "mae_val = mean_absolute_error(y_val, y_val_pred)\n",
    "\n",
    "print('Mean Absolute Error on validation set:', mae_val)"
   ]
  }
 ],
 "metadata": {
  "accelerator": "GPU",
  "colab": {
   "authorship_tag": "ABX9TyO8EjROgxbksk4nYzFB/Aqi",
   "gpuType": "T4",
   "mount_file_id": "1b5EV98iWks8_6jea49Ux1q0V5x7daPB3",
   "provenance": []
  },
  "kernelspec": {
   "display_name": "Python 3 (ipykernel)",
   "language": "python",
   "name": "python3"
  },
  "language_info": {
   "codemirror_mode": {
    "name": "ipython",
    "version": 3
   },
   "file_extension": ".py",
   "mimetype": "text/x-python",
   "name": "python",
   "nbconvert_exporter": "python",
   "pygments_lexer": "ipython3",
   "version": "3.9.12"
  }
 },
 "nbformat": 4,
 "nbformat_minor": 1
}
